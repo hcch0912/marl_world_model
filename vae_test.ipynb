{
 "cells": [
  {
   "cell_type": "markdown",
   "metadata": {},
   "source": [
    "Test VAE model on random frame of random file in `record`"
   ]
  },
  {
   "cell_type": "code",
   "execution_count": 204,
   "metadata": {},
   "outputs": [],
   "source": [
    "import numpy as np\n",
    "import os\n",
    "import json\n",
    "import tensorflow as tf\n",
    "import random\n",
    "from vae.vae import ConvVAE, reset_graph"
   ]
  },
  {
   "cell_type": "code",
   "execution_count": 205,
   "metadata": {},
   "outputs": [],
   "source": [
    "import matplotlib.pyplot as plt\n",
    "np.set_printoptions(precision=4, edgeitems=6, linewidth=100, suppress=True)"
   ]
  },
  {
   "cell_type": "code",
   "execution_count": 206,
   "metadata": {},
   "outputs": [],
   "source": [
    "os.environ[\"CUDA_VISIBLE_DEVICES\"]=\"-1\" # disable GPU\n",
    "\n",
    "DATA_DIR = \"./new_record/\"\n",
    "model_path_name = \"./tf_vae/\"\n",
    "\n",
    "z_size=32"
   ]
  },
  {
   "cell_type": "code",
   "execution_count": 207,
   "metadata": {},
   "outputs": [],
   "source": [
    "filelist = os.listdir(DATA_DIR)"
   ]
  },
  {
   "cell_type": "code",
   "execution_count": 208,
   "metadata": {},
   "outputs": [],
   "source": [
    "# from PIL import Image\n",
    "# img_list = []\n",
    "# for i in filelist[:20]:\n",
    "#     filename = filelist[0]\n",
    "#     img = Image.open(os.path.join(DATA_DIR, filename))\n",
    "#     img = img.resize((64,64),Image.ANTIALIAS)\n",
    "#     img = np.array(img).astype(np.float32)/255.0\n",
    "#     img_list.append(img)"
   ]
  },
  {
   "cell_type": "code",
   "execution_count": 209,
   "metadata": {},
   "outputs": [],
   "source": [
    "obs = np.load(os.path.join(DATA_DIR, random.choice(filelist)))[\"obs\"]\n",
    "obs = obs.astype(np.float32)/255.0"
   ]
  },
  {
   "cell_type": "code",
   "execution_count": 210,
   "metadata": {},
   "outputs": [
    {
     "data": {
      "text/plain": [
       "(1000, 64, 64, 3)"
      ]
     },
     "execution_count": 210,
     "metadata": {},
     "output_type": "execute_result"
    }
   ],
   "source": [
    "obs.shape"
   ]
  },
  {
   "cell_type": "code",
   "execution_count": 211,
   "metadata": {},
   "outputs": [
    {
     "name": "stdout",
     "output_type": "stream",
     "text": [
      "INFO:tensorflow:Model using cpu.\n"
     ]
    }
   ],
   "source": [
    "vae = ConvVAE(z_size=z_size,\n",
    "              batch_size=1,\n",
    "              is_training=False,\n",
    "              reuse=False,\n",
    "              gpu_mode=False)\n",
    "\n",
    "vae.load_json(os.path.join(model_path_name, 'vae.json'))"
   ]
  },
  {
   "cell_type": "code",
   "execution_count": 212,
   "metadata": {},
   "outputs": [
    {
     "data": {
      "image/png": "[encoded data removed]",
      "text/plain": [
       "<Figure size 432x288 with 1 Axes>"
      ]
     },
     "metadata": {},
     "output_type": "display_data"
    }
   ],
   "source": [
    "# show recorded frame that will be fed into the input of VAE\n",
    "plt.imshow(obs[0])\n",
    "plt.show()"
   ]
  },
  {
   "cell_type": "code",
   "execution_count": null,
   "metadata": {},
   "outputs": [
    {
     "name": "stdout",
     "output_type": "stream",
     "text": [
      "[ 0.1344  0.815   0.0706 -0.8211  0.8353 -0.2683  0.2996 -1.0206  1.7656 -1.2311 -1.0575 -0.7657\n",
      " -1.9445 -3.6225  1.7583 -1.7591  0.2016  0.6015 -0.1893  1.2089  0.0405  1.4007 -1.16    0.2254\n",
      "  0.4651  0.2499  0.5692  0.4317 -0.4141 -0.5168  0.4775  0.9079]\n"
     ]
    }
   ],
   "source": [
    "batch_z = vae.encode(obs)\n",
    "print(batch_z[0]) # print out sampled z\n",
    "reconstruct = vae.decode(batch_z)"
   ]
  },
  {
   "cell_type": "code",
   "execution_count": null,
   "metadata": {},
   "outputs": [],
   "source": [
    "# show reconstruction\n",
    "plt.subplot(221)\n",
    "plt.imshow(reconstruct[0])\n",
    "plt.show()\n",
    "\n",
    "plt.subplot(222)\n",
    "plt.imshow(reconstruct[5])\n",
    "plt.show()\n",
    "\n",
    "plt.subplot(223)\n",
    "plt.imshow(reconstruct[10])\n",
    "plt.show()\n",
    "\n",
    "plt.subplot(224)\n",
    "plt.imshow(reconstruct[19])\n",
    "plt.show()"
   ]
  },
  {
   "cell_type": "code",
   "execution_count": null,
   "metadata": {},
   "outputs": [],
   "source": [
    "plt.imshow(reconstruct[0])\n",
    "plt.savefig('pong_dream.pdf', format='pdf',bbox_inches='tight')"
   ]
  }
 ],
 "metadata": {
  "kernelspec": {
   "display_name": "Python 3",
   "language": "python",
   "name": "python3"
  },
  "language_info": {
   "codemirror_mode": {
    "name": "ipython",
    "version": 3
   },
   "file_extension": ".py",
   "mimetype": "text/x-python",
   "name": "python",
   "nbconvert_exporter": "python",
   "pygments_lexer": "ipython3",
   "version": "3.5.5"
  }
 },
 "nbformat": 4,
 "nbformat_minor": 2
}
